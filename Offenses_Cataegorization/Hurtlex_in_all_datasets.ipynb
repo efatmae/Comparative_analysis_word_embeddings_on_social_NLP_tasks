{
 "cells": [
  {
   "cell_type": "code",
   "execution_count": 2,
   "metadata": {
    "executionInfo": {
     "elapsed": 7240,
     "status": "ok",
     "timestamp": 1648647273024,
     "user": {
      "displayName": "Fatma Elsafoury",
      "userId": "12155606853084180649"
     },
     "user_tz": -60
    },
    "id": "-Hrtg828GvSK"
   },
   "outputs": [],
   "source": [
    "import pandas as pd\n",
    "import numpy as np\n",
    "import os\n",
    "import time\n",
    "import random\n",
    "import gensim\n",
    "import numpy as np\n",
    "import os\n",
    "import torch\n",
    "from gensim.models import KeyedVectors\n",
    "from matplotlib import pyplot as plt"
   ]
  },
  {
   "cell_type": "code",
   "execution_count": 3,
   "metadata": {
    "executionInfo": {
     "elapsed": 5,
     "status": "ok",
     "timestamp": 1648647274848,
     "user": {
      "displayName": "Fatma Elsafoury",
      "userId": "12155606853084180649"
     },
     "user_tz": -60
    },
    "id": "9VlvSt6ESPfB"
   },
   "outputs": [],
   "source": [
    "pd.set_option(\"max_colwidth\",1000000000)"
   ]
  },
  {
   "cell_type": "code",
   "execution_count": 4,
   "metadata": {
    "executionInfo": {
     "elapsed": 5,
     "status": "ok",
     "timestamp": 1648647276420,
     "user": {
      "displayName": "Fatma Elsafoury",
      "userId": "12155606853084180649"
     },
     "user_tz": -60
    },
    "id": "2MWCmYTHG1SS"
   },
   "outputs": [],
   "source": [
    "data_folder = \"/content/drive/My Drive/Colab Notebooks/Cyberbullying_WE_intrinsic_analysis/Data\"\n",
    "CB_data_folder = \"/content/drive/My Drive/Colab Notebooks/Cyberbullying_WE_intrinsic_analysis/Data/CB_Data\""
   ]
  },
  {
   "cell_type": "code",
   "execution_count": 5,
   "metadata": {
    "colab": {
     "base_uri": "https://localhost:8080/"
    },
    "executionInfo": {
     "elapsed": 2225,
     "status": "ok",
     "timestamp": 1648647279048,
     "user": {
      "displayName": "Fatma Elsafoury",
      "userId": "12155606853084180649"
     },
     "user_tz": -60
    },
    "id": "2U6DA0leG2qq",
    "outputId": "3b81f1b9-85df-4912-d84e-cdb99ee0a1e4"
   },
   "outputs": [
    {
     "data": {
      "text/plain": [
       "array(['qas', 'cds', 'is', 're', 'om', 'an', 'or', 'svp', 'asm', 'pr',\n",
       "       'dmc', 'asf', 'ddp', 'ps', 'pa', 'rci', 'ddf'], dtype=object)"
      ]
     },
     "execution_count": 5,
     "metadata": {},
     "output_type": "execute_result"
    }
   ],
   "source": [
    "hurtlex_df = pd.read_csv(data_folder+\"/Hurtlex.tsv\", sep=\"\\t\")\n",
    "hurtlex_df.category.unique()"
   ]
  },
  {
   "cell_type": "code",
   "execution_count": 6,
   "metadata": {
    "colab": {
     "base_uri": "https://localhost:8080/"
    },
    "executionInfo": {
     "elapsed": 8,
     "status": "ok",
     "timestamp": 1648647279048,
     "user": {
      "displayName": "Fatma Elsafoury",
      "userId": "12155606853084180649"
     },
     "user_tz": -60
    },
    "id": "-MrEe_Jj6xuJ",
    "outputId": "8cb856a2-512e-475a-922c-5b961c2bc46c"
   },
   "outputs": [
    {
     "data": {
      "text/plain": [
       "8228"
      ]
     },
     "execution_count": 6,
     "metadata": {},
     "output_type": "execute_result"
    }
   ],
   "source": [
    "len(hurtlex_df)"
   ]
  },
  {
   "cell_type": "code",
   "execution_count": 7,
   "metadata": {
    "colab": {
     "base_uri": "https://localhost:8080/"
    },
    "executionInfo": {
     "elapsed": 4,
     "status": "ok",
     "timestamp": 1648647279048,
     "user": {
      "displayName": "Fatma Elsafoury",
      "userId": "12155606853084180649"
     },
     "user_tz": -60
    },
    "id": "-Hw8cfod_8eY",
    "outputId": "b90c45cc-12b0-4ebb-9970-21a2d4017256"
   },
   "outputs": [
    {
     "data": {
      "text/plain": [
       "5963"
      ]
     },
     "execution_count": 7,
     "metadata": {},
     "output_type": "execute_result"
    }
   ],
   "source": [
    "len(hurtlex_df[\"lemma\"].unique())"
   ]
  },
  {
   "cell_type": "code",
   "execution_count": 8,
   "metadata": {
    "colab": {
     "base_uri": "https://localhost:8080/"
    },
    "executionInfo": {
     "elapsed": 416,
     "status": "ok",
     "timestamp": 1648647356351,
     "user": {
      "displayName": "Fatma Elsafoury",
      "userId": "12155606853084180649"
     },
     "user_tz": -60
    },
    "id": "ZQSU_LmK6plj",
    "outputId": "4b68e2c6-fcc0-4fd3-d6b2-6b9e42512ead"
   },
   "outputs": [
    {
     "data": {
      "text/plain": [
       "5963"
      ]
     },
     "execution_count": 8,
     "metadata": {},
     "output_type": "execute_result"
    }
   ],
   "source": [
    "len(hurtlex_df.drop_duplicates(subset=[\"lemma\"]))"
   ]
  },
  {
   "cell_type": "code",
   "execution_count": 9,
   "metadata": {
    "executionInfo": {
     "elapsed": 2,
     "status": "ok",
     "timestamp": 1648647356756,
     "user": {
      "displayName": "Fatma Elsafoury",
      "userId": "12155606853084180649"
     },
     "user_tz": -60
    },
    "id": "ZRorTnex-U3R"
   },
   "outputs": [],
   "source": [
    "duplicated_hurtlex = hurtlex_df[hurtlex_df.duplicated(subset=[\"lemma\"])]"
   ]
  },
  {
   "cell_type": "code",
   "execution_count": 10,
   "metadata": {
    "colab": {
     "base_uri": "https://localhost:8080/"
    },
    "executionInfo": {
     "elapsed": 3,
     "status": "ok",
     "timestamp": 1648647356757,
     "user": {
      "displayName": "Fatma Elsafoury",
      "userId": "12155606853084180649"
     },
     "user_tz": -60
    },
    "id": "aP-T3WUN_O4u",
    "outputId": "8d392e82-f66e-497e-f4af-24dcc48975e5"
   },
   "outputs": [
    {
     "data": {
      "text/plain": [
       "2265"
      ]
     },
     "execution_count": 10,
     "metadata": {},
     "output_type": "execute_result"
    }
   ],
   "source": [
    "len(duplicated_hurtlex)"
   ]
  },
  {
   "cell_type": "code",
   "execution_count": 11,
   "metadata": {
    "executionInfo": {
     "elapsed": 1006,
     "status": "ok",
     "timestamp": 1648647357761,
     "user": {
      "displayName": "Fatma Elsafoury",
      "userId": "12155606853084180649"
     },
     "user_tz": -60
    },
    "id": "WPNvkWVk_usm"
   },
   "outputs": [],
   "source": [
    "duplicated_hurtlex.to_csv(data_folder+\"/duplicated_hurtlex_vocab.csv\")"
   ]
  },
  {
   "cell_type": "code",
   "execution_count": 12,
   "metadata": {
    "colab": {
     "base_uri": "https://localhost:8080/",
     "height": 424
    },
    "executionInfo": {
     "elapsed": 13,
     "status": "ok",
     "timestamp": 1648647357761,
     "user": {
      "displayName": "Fatma Elsafoury",
      "userId": "12155606853084180649"
     },
     "user_tz": -60
    },
    "id": "90HNslTP_Snn",
    "outputId": "9922c9f7-050c-415a-d68d-5f4e32e44c15"
   },
   "outputs": [
    {
     "data": {
      "text/html": [
       "\n",
       "  <div id=\"df-04e7b880-d04f-4a76-8626-2b595f6d3028\">\n",
       "    <div class=\"colab-df-container\">\n",
       "      <div>\n",
       "<style scoped>\n",
       "    .dataframe tbody tr th:only-of-type {\n",
       "        vertical-align: middle;\n",
       "    }\n",
       "\n",
       "    .dataframe tbody tr th {\n",
       "        vertical-align: top;\n",
       "    }\n",
       "\n",
       "    .dataframe thead th {\n",
       "        text-align: right;\n",
       "    }\n",
       "</style>\n",
       "<table border=\"1\" class=\"dataframe\">\n",
       "  <thead>\n",
       "    <tr style=\"text-align: right;\">\n",
       "      <th></th>\n",
       "      <th>id</th>\n",
       "      <th>pos</th>\n",
       "      <th>category</th>\n",
       "      <th>stereotype</th>\n",
       "      <th>lemma</th>\n",
       "      <th>level</th>\n",
       "    </tr>\n",
       "  </thead>\n",
       "  <tbody>\n",
       "    <tr>\n",
       "      <th>0</th>\n",
       "      <td>EN1382</td>\n",
       "      <td>n</td>\n",
       "      <td>qas</td>\n",
       "      <td>no</td>\n",
       "      <td>gag reel</td>\n",
       "      <td>inclusive</td>\n",
       "    </tr>\n",
       "    <tr>\n",
       "      <th>2</th>\n",
       "      <td>EN6856</td>\n",
       "      <td>n</td>\n",
       "      <td>is</td>\n",
       "      <td>yes</td>\n",
       "      <td>mendicant</td>\n",
       "      <td>conservative</td>\n",
       "    </tr>\n",
       "    <tr>\n",
       "      <th>3</th>\n",
       "      <td>EN5485</td>\n",
       "      <td>n</td>\n",
       "      <td>re</td>\n",
       "      <td>no</td>\n",
       "      <td>maffias</td>\n",
       "      <td>conservative</td>\n",
       "    </tr>\n",
       "    <tr>\n",
       "      <th>4</th>\n",
       "      <td>EN5024</td>\n",
       "      <td>n</td>\n",
       "      <td>cds</td>\n",
       "      <td>no</td>\n",
       "      <td>lying in trade</td>\n",
       "      <td>conservative</td>\n",
       "    </tr>\n",
       "    <tr>\n",
       "      <th>9</th>\n",
       "      <td>EN858</td>\n",
       "      <td>n</td>\n",
       "      <td>an</td>\n",
       "      <td>no</td>\n",
       "      <td>sucker</td>\n",
       "      <td>inclusive</td>\n",
       "    </tr>\n",
       "    <tr>\n",
       "      <th>...</th>\n",
       "      <td>...</td>\n",
       "      <td>...</td>\n",
       "      <td>...</td>\n",
       "      <td>...</td>\n",
       "      <td>...</td>\n",
       "      <td>...</td>\n",
       "    </tr>\n",
       "    <tr>\n",
       "      <th>8216</th>\n",
       "      <td>EN2043</td>\n",
       "      <td>n</td>\n",
       "      <td>re</td>\n",
       "      <td>no</td>\n",
       "      <td>fraudster</td>\n",
       "      <td>inclusive</td>\n",
       "    </tr>\n",
       "    <tr>\n",
       "      <th>8221</th>\n",
       "      <td>EN333</td>\n",
       "      <td>n</td>\n",
       "      <td>an</td>\n",
       "      <td>no</td>\n",
       "      <td>wish-wash</td>\n",
       "      <td>conservative</td>\n",
       "    </tr>\n",
       "    <tr>\n",
       "      <th>8224</th>\n",
       "      <td>EN1319</td>\n",
       "      <td>n</td>\n",
       "      <td>cds</td>\n",
       "      <td>no</td>\n",
       "      <td>mother fucka</td>\n",
       "      <td>conservative</td>\n",
       "    </tr>\n",
       "    <tr>\n",
       "      <th>8225</th>\n",
       "      <td>EN2597</td>\n",
       "      <td>n</td>\n",
       "      <td>cds</td>\n",
       "      <td>no</td>\n",
       "      <td>refuse</td>\n",
       "      <td>conservative</td>\n",
       "    </tr>\n",
       "    <tr>\n",
       "      <th>8226</th>\n",
       "      <td>EN521</td>\n",
       "      <td>n</td>\n",
       "      <td>asm</td>\n",
       "      <td>no</td>\n",
       "      <td>simple</td>\n",
       "      <td>inclusive</td>\n",
       "    </tr>\n",
       "  </tbody>\n",
       "</table>\n",
       "<p>3588 rows × 6 columns</p>\n",
       "</div>\n",
       "      <button class=\"colab-df-convert\" onclick=\"convertToInteractive('df-04e7b880-d04f-4a76-8626-2b595f6d3028')\"\n",
       "              title=\"Convert this dataframe to an interactive table.\"\n",
       "              style=\"display:none;\">\n",
       "        \n",
       "  <svg xmlns=\"http://www.w3.org/2000/svg\" height=\"24px\"viewBox=\"0 0 24 24\"\n",
       "       width=\"24px\">\n",
       "    <path d=\"M0 0h24v24H0V0z\" fill=\"none\"/>\n",
       "    <path d=\"M18.56 5.44l.94 2.06.94-2.06 2.06-.94-2.06-.94-.94-2.06-.94 2.06-2.06.94zm-11 1L8.5 8.5l.94-2.06 2.06-.94-2.06-.94L8.5 2.5l-.94 2.06-2.06.94zm10 10l.94 2.06.94-2.06 2.06-.94-2.06-.94-.94-2.06-.94 2.06-2.06.94z\"/><path d=\"M17.41 7.96l-1.37-1.37c-.4-.4-.92-.59-1.43-.59-.52 0-1.04.2-1.43.59L10.3 9.45l-7.72 7.72c-.78.78-.78 2.05 0 2.83L4 21.41c.39.39.9.59 1.41.59.51 0 1.02-.2 1.41-.59l7.78-7.78 2.81-2.81c.8-.78.8-2.07 0-2.86zM5.41 20L4 18.59l7.72-7.72 1.47 1.35L5.41 20z\"/>\n",
       "  </svg>\n",
       "      </button>\n",
       "      \n",
       "  <style>\n",
       "    .colab-df-container {\n",
       "      display:flex;\n",
       "      flex-wrap:wrap;\n",
       "      gap: 12px;\n",
       "    }\n",
       "\n",
       "    .colab-df-convert {\n",
       "      background-color: #E8F0FE;\n",
       "      border: none;\n",
       "      border-radius: 50%;\n",
       "      cursor: pointer;\n",
       "      display: none;\n",
       "      fill: #1967D2;\n",
       "      height: 32px;\n",
       "      padding: 0 0 0 0;\n",
       "      width: 32px;\n",
       "    }\n",
       "\n",
       "    .colab-df-convert:hover {\n",
       "      background-color: #E2EBFA;\n",
       "      box-shadow: 0px 1px 2px rgba(60, 64, 67, 0.3), 0px 1px 3px 1px rgba(60, 64, 67, 0.15);\n",
       "      fill: #174EA6;\n",
       "    }\n",
       "\n",
       "    [theme=dark] .colab-df-convert {\n",
       "      background-color: #3B4455;\n",
       "      fill: #D2E3FC;\n",
       "    }\n",
       "\n",
       "    [theme=dark] .colab-df-convert:hover {\n",
       "      background-color: #434B5C;\n",
       "      box-shadow: 0px 1px 3px 1px rgba(0, 0, 0, 0.15);\n",
       "      filter: drop-shadow(0px 1px 2px rgba(0, 0, 0, 0.3));\n",
       "      fill: #FFFFFF;\n",
       "    }\n",
       "  </style>\n",
       "\n",
       "      <script>\n",
       "        const buttonEl =\n",
       "          document.querySelector('#df-04e7b880-d04f-4a76-8626-2b595f6d3028 button.colab-df-convert');\n",
       "        buttonEl.style.display =\n",
       "          google.colab.kernel.accessAllowed ? 'block' : 'none';\n",
       "\n",
       "        async function convertToInteractive(key) {\n",
       "          const element = document.querySelector('#df-04e7b880-d04f-4a76-8626-2b595f6d3028');\n",
       "          const dataTable =\n",
       "            await google.colab.kernel.invokeFunction('convertToInteractive',\n",
       "                                                     [key], {});\n",
       "          if (!dataTable) return;\n",
       "\n",
       "          const docLinkHtml = 'Like what you see? Visit the ' +\n",
       "            '<a target=\"_blank\" href=https://colab.research.google.com/notebooks/data_table.ipynb>data table notebook</a>'\n",
       "            + ' to learn more about interactive tables.';\n",
       "          element.innerHTML = '';\n",
       "          dataTable['output_type'] = 'display_data';\n",
       "          await google.colab.output.renderOutput(dataTable, element);\n",
       "          const docLink = document.createElement('div');\n",
       "          docLink.innerHTML = docLinkHtml;\n",
       "          element.appendChild(docLink);\n",
       "        }\n",
       "      </script>\n",
       "    </div>\n",
       "  </div>\n",
       "  "
      ],
      "text/plain": [
       "          id pos category stereotype           lemma         level\n",
       "0     EN1382   n      qas         no        gag reel     inclusive\n",
       "2     EN6856   n       is        yes       mendicant  conservative\n",
       "3     EN5485   n       re         no         maffias  conservative\n",
       "4     EN5024   n      cds         no  lying in trade  conservative\n",
       "9      EN858   n       an         no          sucker     inclusive\n",
       "...      ...  ..      ...        ...             ...           ...\n",
       "8216  EN2043   n       re         no       fraudster     inclusive\n",
       "8221   EN333   n       an         no       wish-wash  conservative\n",
       "8224  EN1319   n      cds         no    mother fucka  conservative\n",
       "8225  EN2597   n      cds         no          refuse  conservative\n",
       "8226   EN521   n      asm         no          simple     inclusive\n",
       "\n",
       "[3588 rows x 6 columns]"
      ]
     },
     "execution_count": 12,
     "metadata": {},
     "output_type": "execute_result"
    }
   ],
   "source": [
    "hurtlex_df[hurtlex_df[\"lemma\"].isin(duplicated_hurtlex[\"lemma\"].values)]"
   ]
  },
  {
   "cell_type": "code",
   "execution_count": 13,
   "metadata": {
    "executionInfo": {
     "elapsed": 10,
     "status": "ok",
     "timestamp": 1648647357761,
     "user": {
      "displayName": "Fatma Elsafoury",
      "userId": "12155606853084180649"
     },
     "user_tz": -60
    },
    "id": "gkDEwzp964RB"
   },
   "outputs": [],
   "source": [
    "hurtlex_df = hurtlex_df.drop_duplicates(subset=[\"lemma\"])"
   ]
  },
  {
   "cell_type": "code",
   "execution_count": 14,
   "metadata": {
    "executionInfo": {
     "elapsed": 5,
     "status": "ok",
     "timestamp": 1648647358154,
     "user": {
      "displayName": "Fatma Elsafoury",
      "userId": "12155606853084180649"
     },
     "user_tz": -60
    },
    "id": "1OIAIJ0RHCU5"
   },
   "outputs": [],
   "source": [
    "hurtlex_df_ps = hurtlex_df[(hurtlex_df[\"category\"] == \"ps\")][\"lemma\"].unique() #& (hurtlex_df[\"stereotype\"] == \"yes\")]\n",
    "hurtlex_df_om = hurtlex_df[(hurtlex_df[\"category\"] == \"om\")][\"lemma\"].unique() #& (hurtlex_df[\"stereotype\"] == \"no\")]\n",
    "hurtlex_df_qas = hurtlex_df[(hurtlex_df[\"category\"] == \"qas\")][\"lemma\"].unique() #& (hurtlex_df[\"stereotype\"] == \"no\")]\n",
    "hurtlex_df_cds = hurtlex_df[(hurtlex_df[\"category\"] == \"cds\")][\"lemma\"].unique() #& (hurtlex_df[\"stereotype\"] == \"no\")]\n",
    "hurtlex_df_is = hurtlex_df[(hurtlex_df[\"category\"] == \"is\")][\"lemma\"].unique() #& (hurtlex_df[\"stereotype\"] == \"no\")]\n",
    "hurtlex_df_re = hurtlex_df[(hurtlex_df[\"category\"] == \"re\")][\"lemma\"].unique() #& (hurtlex_df[\"stereotype\"] == \"no\")]\n",
    "hurtlex_df_pr = hurtlex_df[(hurtlex_df[\"category\"] == \"pr\")][\"lemma\"].unique() #& (hurtlex_df[\"stereotype\"] == \"no\")]\n",
    "hurtlex_df_asf = hurtlex_df[(hurtlex_df[\"category\"] == \"asf\")][\"lemma\"].unique() #& (hurtlex_df[\"stereotype\"] == \"no\")]\n",
    "hurtlex_df_asm = hurtlex_df[(hurtlex_df[\"category\"] == \"asm\")][\"lemma\"].unique() #& (hurtlex_df[\"stereotype\"] == \"no\")]\n",
    "hurtlex_df_ddp = hurtlex_df[(hurtlex_df[\"category\"] == \"ddp\")][\"lemma\"].unique() #& (hurtlex_df[\"stereotype\"] == \"yes\")]\n",
    "hurtlex_df_ddf = hurtlex_df[(hurtlex_df[\"category\"] == \"ddf\")][\"lemma\"].unique() #& (hurtlex_df[\"stereotype\"] == \"yes\")]"
   ]
  },
  {
   "cell_type": "code",
   "execution_count": 15,
   "metadata": {
    "colab": {
     "base_uri": "https://localhost:8080/"
    },
    "executionInfo": {
     "elapsed": 5,
     "status": "ok",
     "timestamp": 1648647358154,
     "user": {
      "displayName": "Fatma Elsafoury",
      "userId": "12155606853084180649"
     },
     "user_tz": -60
    },
    "id": "Km_xNU7A3lWR",
    "outputId": "d613bfec-5652-4751-caf4-fe663fe186a7"
   },
   "outputs": [
    {
     "data": {
      "text/plain": [
       "array(['snotty', 'lying in trade', 'nerdiness', ..., 'faction',\n",
       "       'fascisti', 'egoistic'], dtype=object)"
      ]
     },
     "execution_count": 15,
     "metadata": {},
     "output_type": "execute_result"
    }
   ],
   "source": [
    "hurtlex_df_cds"
   ]
  },
  {
   "cell_type": "code",
   "execution_count": 16,
   "metadata": {
    "executionInfo": {
     "elapsed": 3,
     "status": "ok",
     "timestamp": 1648647358154,
     "user": {
      "displayName": "Fatma Elsafoury",
      "userId": "12155606853084180649"
     },
     "user_tz": -60
    },
    "id": "55pfiWdzHlVi"
   },
   "outputs": [],
   "source": [
    "def find_list_of_words_in_df(df, slur_list,cat):\n",
    "  ps_in_hateEval = []\n",
    "  for i in slur_list: \n",
    "    if  df['Text_clean'].str.contains(\" \"+i+\" \").any() == True:\n",
    "      ps = df[df[\"Text_clean\"].str.contains(\" \"+i+\" \")][[\"Text_clean\",\"oh_label\"]]\n",
    "      ps[\"cat\"] = cat\n",
    "      #if ps.index not in ps_in_hateEval:\n",
    "      ps_in_hateEval.append(ps)\n",
    "\n",
    "  ps_in_hateEval_df = pd.concat(ps_in_hateEval).drop_duplicates(subset=[\"Text_clean\"])\n",
    "  return ps_in_hateEval_df"
   ]
  },
  {
   "cell_type": "code",
   "execution_count": 17,
   "metadata": {
    "executionInfo": {
     "elapsed": 4,
     "status": "ok",
     "timestamp": 1648647358539,
     "user": {
      "displayName": "Fatma Elsafoury",
      "userId": "12155606853084180649"
     },
     "user_tz": -60
    },
    "id": "BRfegiqW7qo5"
   },
   "outputs": [],
   "source": [
    "def return_dataset_with_hurtlex_unique(dataset_df):\n",
    "\n",
    "  ps_in_ds = find_list_of_words_in_df(dataset_df, hurtlex_df_ps,\"PS\")\n",
    "    \n",
    "  om_in_ds = find_list_of_words_in_df(dataset_df, hurtlex_df_om,\"OM\")\n",
    "\n",
    "  qas_in_ds = find_list_of_words_in_df(dataset_df, hurtlex_df_qas,\"QAS\")\n",
    "  cds_in_ds = find_list_of_words_in_df(dataset_df, hurtlex_df_cds,\"CDS\")\n",
    "  is_in_ds = find_list_of_words_in_df(dataset_df, hurtlex_df_is,\"IS\")\n",
    "  re_in_ds = find_list_of_words_in_df(dataset_df, hurtlex_df_re,\"RE\")\n",
    "  pr_in_ds = find_list_of_words_in_df(dataset_df, hurtlex_df_pr,\"PR\")\n",
    " \n",
    "  asf_in_ds = find_list_of_words_in_df(dataset_df, hurtlex_df_asf,\"ASF\")\n",
    "  asm_in_ds = find_list_of_words_in_df(dataset_df, hurtlex_df_asm,\"ASM\")\n",
    "  ddp_in_ds = find_list_of_words_in_df(dataset_df, hurtlex_df_ddp,\"DDP\")\n",
    "  ddf_in_ds = find_list_of_words_in_df(dataset_df, hurtlex_df_ddf,\"DDF\")\n",
    "\n",
    "\n",
    "  test_set_cat = pd.concat([ps_in_ds,om_in_ds,qas_in_ds,cds_in_ds,is_in_ds,re_in_ds,pr_in_ds,\n",
    "                           asf_in_ds, asm_in_ds,ddp_in_ds,ddf_in_ds ]).drop_duplicates(subset=[\"Text_clean\"], keep=False)\n",
    " \n",
    "\n",
    "  return test_set_cat                  \n"
   ]
  },
  {
   "cell_type": "code",
   "execution_count": 18,
   "metadata": {
    "executionInfo": {
     "elapsed": 556,
     "status": "ok",
     "timestamp": 1648647360253,
     "user": {
      "displayName": "Fatma Elsafoury",
      "userId": "12155606853084180649"
     },
     "user_tz": -60
    },
    "id": "24JdD0M6CjUd"
   },
   "outputs": [],
   "source": [
    "def return_hurtlex_in_dataset_unique(dataset_df):\n",
    "\n",
    "  ps_in_ds = find_list_of_words_in_df(dataset_df, hurtlex_df_ps,\"PS\")\n",
    "    \n",
    "  om_in_ds = find_list_of_words_in_df(dataset_df, hurtlex_df_om,\"OM\")\n",
    "\n",
    "  qas_in_ds = find_list_of_words_in_df(dataset_df, hurtlex_df_qas,\"QAS\")\n",
    "  cds_in_ds = find_list_of_words_in_df(dataset_df, hurtlex_df_cds,\"CDS\")\n",
    "  is_in_ds = find_list_of_words_in_df(dataset_df, hurtlex_df_is,\"IS\")\n",
    "  re_in_ds = find_list_of_words_in_df(dataset_df, hurtlex_df_re,\"RE\")\n",
    "  pr_in_ds = find_list_of_words_in_df(dataset_df, hurtlex_df_pr,\"PR\")\n",
    " \n",
    "  asf_in_ds = find_list_of_words_in_df(dataset_df, hurtlex_df_asf,\"ASF\")\n",
    "  asm_in_ds = find_list_of_words_in_df(dataset_df, hurtlex_df_asm,\"ASM\")\n",
    "  ddp_in_ds = find_list_of_words_in_df(dataset_df, hurtlex_df_ddp,\"DDP\")\n",
    "  ddf_in_ds = find_list_of_words_in_df(dataset_df, hurtlex_df_ddf,\"DDF\")\n",
    "\n",
    "\n",
    "  test_set_cat = pd.concat([ps_in_ds,om_in_ds,qas_in_ds,cds_in_ds,is_in_ds,re_in_ds,pr_in_ds,\n",
    "                           asf_in_ds, asm_in_ds,ddp_in_ds,ddf_in_ds ]).drop_duplicates(subset=[\"Text_clean\"], keep=False)\n",
    " \n",
    "\n",
    "  dataset_hurtlex_no = [len(test_set_cat[test_set_cat[\"cat\"]==\"PS\"])/len(dataset_df),\n",
    "                        len(test_set_cat[test_set_cat[\"cat\"]==\"OM\"])/len(dataset_df),\n",
    "                     len(test_set_cat[test_set_cat[\"cat\"]==\"QAS\"])/len(dataset_df),\n",
    "                     len(test_set_cat[test_set_cat[\"cat\"]==\"CDS\"])/len(dataset_df),\n",
    "                    len(test_set_cat[test_set_cat[\"cat\"]==\"IS\"])/len(dataset_df),\n",
    "                    len(test_set_cat[test_set_cat[\"cat\"]==\"RE\"])/len(dataset_df),\n",
    "                    len(test_set_cat[test_set_cat[\"cat\"]==\"PR\"])/len(dataset_df),\n",
    "                    len(test_set_cat[test_set_cat[\"cat\"]==\"ASF\"])/len(dataset_df),\n",
    "                    len(test_set_cat[test_set_cat[\"cat\"]==\"ASM\"])/len(dataset_df),\n",
    "                    len(test_set_cat[test_set_cat[\"cat\"]==\"DDP\"])/len(dataset_df),\n",
    "                    len(test_set_cat[test_set_cat[\"cat\"]==\"DDF\"])/len(dataset_df)]\n",
    "\n",
    "  return dataset_hurtlex_no                  \n"
   ]
  },
  {
   "cell_type": "code",
   "execution_count": 19,
   "metadata": {
    "executionInfo": {
     "elapsed": 1,
     "status": "ok",
     "timestamp": 1648647360253,
     "user": {
      "displayName": "Fatma Elsafoury",
      "userId": "12155606853084180649"
     },
     "user_tz": -60
    },
    "id": "mJyvYxY2B2i6"
   },
   "outputs": [],
   "source": [
    "def return_dataset_with_hurtlex(dataset_df):\n",
    "\n",
    "  ps_in_ds = find_list_of_words_in_df(dataset_df, hurtlex_df_ps,\"PS\")\n",
    "    \n",
    "  om_in_ds = find_list_of_words_in_df(dataset_df, hurtlex_df_om,\"OM\")\n",
    "\n",
    "  qas_in_ds = find_list_of_words_in_df(dataset_df, hurtlex_df_qas,\"QAS\")\n",
    "  cds_in_ds = find_list_of_words_in_df(dataset_df, hurtlex_df_cds,\"CDS\")\n",
    "  is_in_ds = find_list_of_words_in_df(dataset_df, hurtlex_df_is,\"IS\")\n",
    "  re_in_ds = find_list_of_words_in_df(dataset_df, hurtlex_df_re,\"RE\")\n",
    "  pr_in_ds = find_list_of_words_in_df(dataset_df, hurtlex_df_pr,\"PR\")\n",
    " \n",
    "  asf_in_ds = find_list_of_words_in_df(dataset_df, hurtlex_df_asf,\"ASF\")\n",
    "  asm_in_ds = find_list_of_words_in_df(dataset_df, hurtlex_df_asm,\"ASM\")\n",
    "  ddp_in_ds = find_list_of_words_in_df(dataset_df, hurtlex_df_ddp,\"DDP\")\n",
    "  ddf_in_ds = find_list_of_words_in_df(dataset_df, hurtlex_df_ddf,\"DDF\")\n",
    "\n",
    "\n",
    "  test_set_cat = pd.concat([ps_in_ds,om_in_ds,qas_in_ds,cds_in_ds,is_in_ds,re_in_ds,pr_in_ds,\n",
    "                           asf_in_ds, asm_in_ds,ddp_in_ds,ddf_in_ds ]).drop_duplicates(subset=[\"Text_clean\"])\n",
    " \n",
    "\n",
    "  return test_set_cat                  \n"
   ]
  },
  {
   "cell_type": "code",
   "execution_count": 20,
   "metadata": {
    "executionInfo": {
     "elapsed": 6,
     "status": "ok",
     "timestamp": 1648647361131,
     "user": {
      "displayName": "Fatma Elsafoury",
      "userId": "12155606853084180649"
     },
     "user_tz": -60
    },
    "id": "KWBTX94SHCZW"
   },
   "outputs": [],
   "source": [
    "def return_hurtlex_in_dataset(dataset_df):\n",
    "\n",
    "  ps_in_ds = find_list_of_words_in_df(dataset_df, hurtlex_df_ps,\"PS\")\n",
    "    \n",
    "  om_in_ds = find_list_of_words_in_df(dataset_df, hurtlex_df_om,\"OM\")\n",
    "\n",
    "  qas_in_ds = find_list_of_words_in_df(dataset_df, hurtlex_df_qas,\"QAS\")\n",
    "  cds_in_ds = find_list_of_words_in_df(dataset_df, hurtlex_df_cds,\"CDS\")\n",
    "  is_in_ds = find_list_of_words_in_df(dataset_df, hurtlex_df_is,\"IS\")\n",
    "  re_in_ds = find_list_of_words_in_df(dataset_df, hurtlex_df_re,\"RE\")\n",
    "  pr_in_ds = find_list_of_words_in_df(dataset_df, hurtlex_df_pr,\"PR\")\n",
    " \n",
    "  asf_in_ds = find_list_of_words_in_df(dataset_df, hurtlex_df_asf,\"ASF\")\n",
    "  asm_in_ds = find_list_of_words_in_df(dataset_df, hurtlex_df_asm,\"ASM\")\n",
    "  ddp_in_ds = find_list_of_words_in_df(dataset_df, hurtlex_df_ddp,\"DDP\")\n",
    "  ddf_in_ds = find_list_of_words_in_df(dataset_df, hurtlex_df_ddf,\"DDF\")\n",
    "\n",
    "\n",
    "  test_set_cat = pd.concat([ps_in_ds,om_in_ds,qas_in_ds,cds_in_ds,is_in_ds,re_in_ds,pr_in_ds,\n",
    "                           asf_in_ds, asm_in_ds,ddp_in_ds,ddf_in_ds ]).drop_duplicates(subset=[\"Text_clean\"])\n",
    " \n",
    "\n",
    "  dataset_hurtlex_no = [len(test_set_cat[test_set_cat[\"cat\"]==\"PS\"])/len(dataset_df),\n",
    "                        len(test_set_cat[test_set_cat[\"cat\"]==\"OM\"])/len(dataset_df),\n",
    "                     len(test_set_cat[test_set_cat[\"cat\"]==\"QAS\"])/len(dataset_df),\n",
    "                     len(test_set_cat[test_set_cat[\"cat\"]==\"CDS\"])/len(dataset_df),\n",
    "                    len(test_set_cat[test_set_cat[\"cat\"]==\"IS\"])/len(dataset_df),\n",
    "                    len(test_set_cat[test_set_cat[\"cat\"]==\"RE\"])/len(dataset_df),\n",
    "                    len(test_set_cat[test_set_cat[\"cat\"]==\"PR\"])/len(dataset_df),\n",
    "                    len(test_set_cat[test_set_cat[\"cat\"]==\"ASF\"])/len(dataset_df),\n",
    "                    len(test_set_cat[test_set_cat[\"cat\"]==\"ASM\"])/len(dataset_df),\n",
    "                    len(test_set_cat[test_set_cat[\"cat\"]==\"DDP\"])/len(dataset_df),\n",
    "                    len(test_set_cat[test_set_cat[\"cat\"]==\"DDF\"])/len(dataset_df)]\n",
    "\n",
    "  return dataset_hurtlex_no                  \n"
   ]
  },
  {
   "cell_type": "code",
   "execution_count": 21,
   "metadata": {
    "executionInfo": {
     "elapsed": 1,
     "status": "ok",
     "timestamp": 1648647361585,
     "user": {
      "displayName": "Fatma Elsafoury",
      "userId": "12155606853084180649"
     },
     "user_tz": -60
    },
    "id": "N73DY8CnoFcb"
   },
   "outputs": [],
   "source": [
    "def return_hurtlex_cat_in_duplicated_data(dataset_df):\n",
    "\n",
    "  ps_in_ds = find_list_of_words_in_df(dataset_df, hurtlex_df_ps,\"PS\")\n",
    "    \n",
    "  om_in_ds = find_list_of_words_in_df(dataset_df, hurtlex_df_om,\"OM\")\n",
    "\n",
    "  qas_in_ds = find_list_of_words_in_df(dataset_df, hurtlex_df_qas,\"QAS\")\n",
    "  cds_in_ds = find_list_of_words_in_df(dataset_df, hurtlex_df_cds,\"CDS\")\n",
    "  is_in_ds = find_list_of_words_in_df(dataset_df, hurtlex_df_is,\"IS\")\n",
    "  re_in_ds = find_list_of_words_in_df(dataset_df, hurtlex_df_re,\"RE\")\n",
    "  pr_in_ds = find_list_of_words_in_df(dataset_df, hurtlex_df_pr,\"PR\")\n",
    " \n",
    "  asf_in_ds = find_list_of_words_in_df(dataset_df, hurtlex_df_asf,\"ASF\")\n",
    "  asm_in_ds = find_list_of_words_in_df(dataset_df, hurtlex_df_asm,\"ASM\")\n",
    "  ddp_in_ds = find_list_of_words_in_df(dataset_df, hurtlex_df_ddp,\"DDP\")\n",
    "  ddf_in_ds = find_list_of_words_in_df(dataset_df, hurtlex_df_ddf,\"DDF\")\n",
    "\n",
    "\n",
    "  test_set_cat = pd.concat([ps_in_ds,om_in_ds,qas_in_ds,cds_in_ds,is_in_ds,re_in_ds,pr_in_ds,\n",
    "                           asf_in_ds, asm_in_ds,ddp_in_ds,ddf_in_ds ])\n",
    " \n",
    "\n",
    "  dataset_hurtlex_no = [len(test_set_cat[test_set_cat[\"cat\"]==\"PS\"])/len(dataset_df),\n",
    "                        len(test_set_cat[test_set_cat[\"cat\"]==\"OM\"])/len(dataset_df),\n",
    "                     len(test_set_cat[test_set_cat[\"cat\"]==\"QAS\"])/len(dataset_df),\n",
    "                     len(test_set_cat[test_set_cat[\"cat\"]==\"CDS\"])/len(dataset_df),\n",
    "                    len(test_set_cat[test_set_cat[\"cat\"]==\"IS\"])/len(dataset_df),\n",
    "                    len(test_set_cat[test_set_cat[\"cat\"]==\"RE\"])/len(dataset_df),\n",
    "                    len(test_set_cat[test_set_cat[\"cat\"]==\"PR\"])/len(dataset_df),\n",
    "                    len(test_set_cat[test_set_cat[\"cat\"]==\"ASF\"])/len(dataset_df),\n",
    "                    len(test_set_cat[test_set_cat[\"cat\"]==\"ASM\"])/len(dataset_df),\n",
    "                    len(test_set_cat[test_set_cat[\"cat\"]==\"DDP\"])/len(dataset_df),\n",
    "                    len(test_set_cat[test_set_cat[\"cat\"]==\"DDF\"])/len(dataset_df)]\n",
    "\n",
    "  return dataset_hurtlex_no                  \n"
   ]
  },
  {
   "cell_type": "code",
   "execution_count": 22,
   "metadata": {
    "executionInfo": {
     "elapsed": 1,
     "status": "ok",
     "timestamp": 1648647362030,
     "user": {
      "displayName": "Fatma Elsafoury",
      "userId": "12155606853084180649"
     },
     "user_tz": -60
    },
    "id": "DJxE6m4OMjJT"
   },
   "outputs": [],
   "source": [
    "def return_dataset_duplicated_hurtlex_in_dataset(dataset_df):\n",
    "\n",
    "  ps_in_ds = find_list_of_words_in_df(dataset_df, hurtlex_df_ps,\"PS\")\n",
    "    \n",
    "  om_in_ds = find_list_of_words_in_df(dataset_df, hurtlex_df_om,\"OM\")\n",
    "\n",
    "  qas_in_ds = find_list_of_words_in_df(dataset_df, hurtlex_df_qas,\"QAS\")\n",
    "  cds_in_ds = find_list_of_words_in_df(dataset_df, hurtlex_df_cds,\"CDS\")\n",
    "  is_in_ds = find_list_of_words_in_df(dataset_df, hurtlex_df_is,\"IS\")\n",
    "  re_in_ds = find_list_of_words_in_df(dataset_df, hurtlex_df_re,\"RE\")\n",
    "  pr_in_ds = find_list_of_words_in_df(dataset_df, hurtlex_df_pr,\"PR\")\n",
    " \n",
    "  asf_in_ds = find_list_of_words_in_df(dataset_df, hurtlex_df_asf,\"ASF\")\n",
    "  asm_in_ds = find_list_of_words_in_df(dataset_df, hurtlex_df_asm,\"ASM\")\n",
    "  ddp_in_ds = find_list_of_words_in_df(dataset_df, hurtlex_df_ddp,\"DDP\")\n",
    "  ddf_in_ds = find_list_of_words_in_df(dataset_df, hurtlex_df_ddf,\"DDF\")\n",
    "\n",
    "\n",
    "  test_set_cat = pd.concat([ps_in_ds,om_in_ds,qas_in_ds,cds_in_ds,is_in_ds,re_in_ds,pr_in_ds,\n",
    "                           asf_in_ds, asm_in_ds,ddp_in_ds,ddf_in_ds ])\n",
    " \n",
    "\n",
    "  return test_set_cat\n"
   ]
  },
  {
   "cell_type": "code",
   "execution_count": 23,
   "metadata": {
    "executionInfo": {
     "elapsed": 6,
     "status": "ok",
     "timestamp": 1648647362739,
     "user": {
      "displayName": "Fatma Elsafoury",
      "userId": "12155606853084180649"
     },
     "user_tz": -60
    },
    "id": "1SVoVBFFBHTh"
   },
   "outputs": [],
   "source": [
    "def return_duplicated_hurtlex_in_dataset(dataset_df):\n",
    "\n",
    "  ps_in_ds = find_list_of_words_in_df(dataset_df, hurtlex_df_ps,\"PS\")\n",
    "    \n",
    "  om_in_ds = find_list_of_words_in_df(dataset_df, hurtlex_df_om,\"OM\")\n",
    "\n",
    "  qas_in_ds = find_list_of_words_in_df(dataset_df, hurtlex_df_qas,\"QAS\")\n",
    "  cds_in_ds = find_list_of_words_in_df(dataset_df, hurtlex_df_cds,\"CDS\")\n",
    "  is_in_ds = find_list_of_words_in_df(dataset_df, hurtlex_df_is,\"IS\")\n",
    "  re_in_ds = find_list_of_words_in_df(dataset_df, hurtlex_df_re,\"RE\")\n",
    "  pr_in_ds = find_list_of_words_in_df(dataset_df, hurtlex_df_pr,\"PR\")\n",
    " \n",
    "  asf_in_ds = find_list_of_words_in_df(dataset_df, hurtlex_df_asf,\"ASF\")\n",
    "  asm_in_ds = find_list_of_words_in_df(dataset_df, hurtlex_df_asm,\"ASM\")\n",
    "  ddp_in_ds = find_list_of_words_in_df(dataset_df, hurtlex_df_ddp,\"DDP\")\n",
    "  ddf_in_ds = find_list_of_words_in_df(dataset_df, hurtlex_df_ddf,\"DDF\")\n",
    "\n",
    "\n",
    "  test_set_cat = pd.concat([ps_in_ds,om_in_ds,qas_in_ds,cds_in_ds,is_in_ds,re_in_ds,pr_in_ds,\n",
    "                           asf_in_ds, asm_in_ds,ddp_in_ds,ddf_in_ds ])\n",
    " \n",
    "  duplicated_test_Set = test_set_cat[test_set_cat.duplicated(subset=[\"Text_clean\"], keep=False)][\"Text_clean\"].unique()\n",
    "\n",
    "  dataset_hurtlex_no = len(duplicated_test_Set)/len(dataset_df)\n",
    "\n",
    "  return dataset_hurtlex_no\n"
   ]
  },
  {
   "cell_type": "markdown",
   "metadata": {
    "id": "yCkCiGPkE-7L"
   },
   "source": [
    "# HateEval DS"
   ]
  },
  {
   "cell_type": "code",
   "execution_count": 24,
   "metadata": {
    "executionInfo": {
     "elapsed": 3169,
     "status": "ok",
     "timestamp": 1648647367182,
     "user": {
      "displayName": "Fatma Elsafoury",
      "userId": "12155606853084180649"
     },
     "user_tz": -60
    },
    "id": "6G2biPTuHE0B"
   },
   "outputs": [],
   "source": [
    "hateEval_train_df = pd.read_csv(CB_data_folder+\"/HateEval/HateEval_data_train.csv\", index_col=False)\n",
    "hateEval_test_df = pd.read_csv(CB_data_folder+\"/HateEval/HateEval_data_test.csv\", index_col=False)\n",
    "\n",
    "hateEval_df = pd.concat([hateEval_train_df,hateEval_test_df])\n",
    "hateEval_df = hateEval_df.dropna()"
   ]
  },
  {
   "cell_type": "code",
   "execution_count": 25,
   "metadata": {
    "colab": {
     "base_uri": "https://localhost:8080/"
    },
    "executionInfo": {
     "elapsed": 8,
     "status": "ok",
     "timestamp": 1648647367182,
     "user": {
      "displayName": "Fatma Elsafoury",
      "userId": "12155606853084180649"
     },
     "user_tz": -60
    },
    "id": "wCVm3M7qHnZY",
    "outputId": "5df94ec4-0116-4646-e90a-023b6a4f7eaf"
   },
   "outputs": [
    {
     "data": {
      "text/plain": [
       "12722"
      ]
     },
     "execution_count": 25,
     "metadata": {},
     "output_type": "execute_result"
    }
   ],
   "source": [
    "len(hateEval_df)"
   ]
  },
  {
   "cell_type": "code",
   "execution_count": 26,
   "metadata": {
    "colab": {
     "base_uri": "https://localhost:8080/"
    },
    "executionInfo": {
     "elapsed": 204038,
     "status": "ok",
     "timestamp": 1648647571214,
     "user": {
      "displayName": "Fatma Elsafoury",
      "userId": "12155606853084180649"
     },
     "user_tz": -60
    },
    "id": "Zqzv3mWVImsQ",
    "outputId": "fada4cdb-e52f-4831-bdfe-c1b8f09b5316"
   },
   "outputs": [
    {
     "name": "stderr",
     "output_type": "stream",
     "text": [
      "/usr/local/lib/python3.7/dist-packages/ipykernel_launcher.py:4: UserWarning: This pattern has match groups. To actually get the groups, use str.extract.\n",
      "  after removing the cwd from sys.path.\n",
      "/usr/local/lib/python3.7/dist-packages/ipykernel_launcher.py:6: SettingWithCopyWarning: \n",
      "A value is trying to be set on a copy of a slice from a DataFrame.\n",
      "Try using .loc[row_indexer,col_indexer] = value instead\n",
      "\n",
      "See the caveats in the documentation: https://pandas.pydata.org/pandas-docs/stable/user_guide/indexing.html#returning-a-view-versus-a-copy\n",
      "  \n"
     ]
    }
   ],
   "source": [
    "hateEval_hurtlex_no = return_hurtlex_in_dataset_unique(hateEval_df)\n",
    "hateEval_duplicated_hurtlex_no = return_duplicated_hurtlex_in_dataset(hateEval_df)\n",
    "hateEval_with_duplicated_hurtlex = return_dataset_duplicated_hurtlex_in_dataset(hateEval_df)\n",
    "hateEval_duplictates_Hurtlext_no = return_hurtlex_cat_in_duplicated_data(hateEval_with_duplicated_hurtlex)\n"
   ]
  },
  {
   "cell_type": "code",
   "execution_count": 27,
   "metadata": {
    "colab": {
     "base_uri": "https://localhost:8080/"
    },
    "executionInfo": {
     "elapsed": 42264,
     "status": "ok",
     "timestamp": 1648647613476,
     "user": {
      "displayName": "Fatma Elsafoury",
      "userId": "12155606853084180649"
     },
     "user_tz": -60
    },
    "id": "hXdWG7RMlsHK",
    "outputId": "ebe92c5c-bfb0-4986-a10d-090acb4cd55d"
   },
   "outputs": [
    {
     "name": "stderr",
     "output_type": "stream",
     "text": [
      "/usr/local/lib/python3.7/dist-packages/ipykernel_launcher.py:4: UserWarning: This pattern has match groups. To actually get the groups, use str.extract.\n",
      "  after removing the cwd from sys.path.\n"
     ]
    }
   ],
   "source": [
    "hateEval_with_hurtlex = return_dataset_with_hurtlex_unique(hateEval_df)\n",
    "hateEval_without_hurtlex = hateEval_df[(~hateEval_df[\"Text_clean\"].isin(hateEval_with_hurtlex.Text_clean.values)) &\n",
    "                                       (~hateEval_df[\"Text_clean\"].isin(hateEval_with_duplicated_hurtlex.Text_clean.values))]"
   ]
  },
  {
   "cell_type": "code",
   "execution_count": 28,
   "metadata": {
    "colab": {
     "base_uri": "https://localhost:8080/"
    },
    "executionInfo": {
     "elapsed": 26,
     "status": "ok",
     "timestamp": 1648647613476,
     "user": {
      "displayName": "Fatma Elsafoury",
      "userId": "12155606853084180649"
     },
     "user_tz": -60
    },
    "id": "Ih0inxZtDW1q",
    "outputId": "a032c90a-0e3e-4c81-87f5-02857ce0c8ac"
   },
   "outputs": [
    {
     "data": {
      "text/plain": [
       "1.0"
      ]
     },
     "execution_count": 28,
     "metadata": {},
     "output_type": "execute_result"
    }
   ],
   "source": [
    "np.sum(hateEval_hurtlex_no)+np.sum(hateEval_duplicated_hurtlex_no)+len(hateEval_without_hurtlex)/len(hateEval_df)"
   ]
  },
  {
   "cell_type": "code",
   "execution_count": 29,
   "metadata": {
    "colab": {
     "base_uri": "https://localhost:8080/"
    },
    "executionInfo": {
     "elapsed": 21,
     "status": "ok",
     "timestamp": 1648647613476,
     "user": {
      "displayName": "Fatma Elsafoury",
      "userId": "12155606853084180649"
     },
     "user_tz": -60
    },
    "id": "NvviHFaVT5sQ",
    "outputId": "96474426-2f82-489c-c98c-bebd52d97c10"
   },
   "outputs": [
    {
     "data": {
      "text/plain": [
       "0.7665461405439397"
      ]
     },
     "execution_count": 29,
     "metadata": {},
     "output_type": "execute_result"
    }
   ],
   "source": [
    "np.sum(hateEval_hurtlex_no)+ + len(hateEval_without_hurtlex)/len(hateEval_df)"
   ]
  },
  {
   "cell_type": "code",
   "execution_count": 30,
   "metadata": {
    "colab": {
     "base_uri": "https://localhost:8080/",
     "height": 283
    },
    "executionInfo": {
     "elapsed": 518,
     "status": "ok",
     "timestamp": 1648647613979,
     "user": {
      "displayName": "Fatma Elsafoury",
      "userId": "12155606853084180649"
     },
     "user_tz": -60
    },
    "id": "Fqk2BhjZ9CCj",
    "outputId": "b80c8053-8af6-4b2f-bcf8-f476a59f292a"
   },
   "outputs": [
    {
     "data": {
      "text/plain": [
       "<matplotlib.legend.Legend at 0x7f9584d96190>"
      ]
     },
     "execution_count": 30,
     "metadata": {},
     "output_type": "execute_result"
    },
    {
     "data": {
      "image/png": "[encoded data removed]",
      "text/plain": [
       "<Figure size 432x288 with 1 Axes>"
      ]
     },
     "metadata": {},
     "output_type": "display_data"
    }
   ],
   "source": [
    "data = [len(hateEval_with_hurtlex)/len(hateEval_df), len(hateEval_without_hurtlex)/len(hateEval_df)]\n",
    "ind = 0.3\n",
    "plt.bar(ind + 0 ,len(hateEval_with_hurtlex)/len(hateEval_df), label=\"HateEval with hurtlex\", width=0.1)\n",
    "plt.bar(ind + 0.1,len(hateEval_without_hurtlex)/len(hateEval_df), label=\"hateeval without hurtlex\", width=0.1)\n",
    "plt.legend()"
   ]
  },
  {
   "cell_type": "markdown",
   "metadata": {
    "id": "ZDutVUB2GOQi"
   },
   "source": [
    "# Kaggle DS"
   ]
  },
  {
   "cell_type": "code",
   "execution_count": 31,
   "metadata": {
    "colab": {
     "base_uri": "https://localhost:8080/"
    },
    "executionInfo": {
     "elapsed": 50399,
     "status": "ok",
     "timestamp": 1648647664376,
     "user": {
      "displayName": "Fatma Elsafoury",
      "userId": "12155606853084180649"
     },
     "user_tz": -60
    },
    "id": "bxKIgdD6HCSb",
    "outputId": "41ec4149-f059-4b6d-d64b-1c454ae0c6b6"
   },
   "outputs": [
    {
     "name": "stderr",
     "output_type": "stream",
     "text": [
      "/usr/local/lib/python3.7/dist-packages/ipykernel_launcher.py:4: UserWarning: This pattern has match groups. To actually get the groups, use str.extract.\n",
      "  after removing the cwd from sys.path.\n",
      "/usr/local/lib/python3.7/dist-packages/ipykernel_launcher.py:6: SettingWithCopyWarning: \n",
      "A value is trying to be set on a copy of a slice from a DataFrame.\n",
      "Try using .loc[row_indexer,col_indexer] = value instead\n",
      "\n",
      "See the caveats in the documentation: https://pandas.pydata.org/pandas-docs/stable/user_guide/indexing.html#returning-a-view-versus-a-copy\n",
      "  \n"
     ]
    }
   ],
   "source": [
    "Kaggle_train_df = pd.read_csv(CB_data_folder+\"/Kaggle/kaggle_data_train.csv\", index_col=False)\n",
    "Kaggle_test_df = pd.read_csv(CB_data_folder+\"/Kaggle/kaggle_data_test.csv\", index_col=False)\n",
    "\n",
    "kaggle_df = pd.concat([Kaggle_train_df,Kaggle_test_df])\n",
    "kaggle_df = kaggle_df.dropna()\n",
    "\n",
    "kaggle_hurtlex_no = return_hurtlex_in_dataset_unique(kaggle_df)\n",
    "kaggle_duplicated_hurtlex_no = return_duplicated_hurtlex_in_dataset(kaggle_df)\n",
    "kaggle_with_duplicated_hurtlex = return_dataset_duplicated_hurtlex_in_dataset(kaggle_df)\n",
    "kaggle_duplictates_Hurtlext_no = return_hurtlex_cat_in_duplicated_data(kaggle_with_duplicated_hurtlex)\n",
    "kaggle_with_hurtlex = return_dataset_with_hurtlex_unique(kaggle_df)\n",
    "kaggle_without_hurtlex = kaggle_df[(~kaggle_df[\"Text_clean\"].isin(kaggle_with_duplicated_hurtlex.Text_clean.values)) &\n",
    "                                   (~kaggle_df[\"Text_clean\"].isin(kaggle_with_hurtlex.Text_clean.values))]"
   ]
  },
  {
   "cell_type": "code",
   "execution_count": 32,
   "metadata": {
    "colab": {
     "base_uri": "https://localhost:8080/"
    },
    "executionInfo": {
     "elapsed": 12,
     "status": "ok",
     "timestamp": 1648647664377,
     "user": {
      "displayName": "Fatma Elsafoury",
      "userId": "12155606853084180649"
     },
     "user_tz": -60
    },
    "id": "POHl4wSiVkj4",
    "outputId": "6e6a3595-c223-48db-fd11-88fd4533bd47"
   },
   "outputs": [
    {
     "data": {
      "text/plain": [
       "1.0"
      ]
     },
     "execution_count": 32,
     "metadata": {},
     "output_type": "execute_result"
    }
   ],
   "source": [
    "np.sum(kaggle_hurtlex_no)+np.sum(kaggle_duplicated_hurtlex_no)+len(kaggle_without_hurtlex)/len(kaggle_df)"
   ]
  },
  {
   "cell_type": "markdown",
   "metadata": {
    "id": "8RZuVlLlNW-o"
   },
   "source": [
    "# Twitter-sexism"
   ]
  },
  {
   "cell_type": "code",
   "execution_count": 33,
   "metadata": {
    "colab": {
     "base_uri": "https://localhost:8080/"
    },
    "executionInfo": {
     "elapsed": 61972,
     "status": "ok",
     "timestamp": 1648647726347,
     "user": {
      "displayName": "Fatma Elsafoury",
      "userId": "12155606853084180649"
     },
     "user_tz": -60
    },
    "id": "gg-FIAg4NQy_",
    "outputId": "3bc2064e-4296-4c48-eb97-472306e822f1"
   },
   "outputs": [
    {
     "name": "stderr",
     "output_type": "stream",
     "text": [
      "/usr/local/lib/python3.7/dist-packages/ipykernel_launcher.py:4: UserWarning: This pattern has match groups. To actually get the groups, use str.extract.\n",
      "  after removing the cwd from sys.path.\n"
     ]
    }
   ],
   "source": [
    "twitter_sex_train_df = pd.read_csv(CB_data_folder+\"/Twitter_sexism/Twitter_sex_data_train.csv\", index_col=False)\n",
    "twitter_sex_test_df = pd.read_csv(CB_data_folder+\"/Twitter_sexism/Twitter_sex_data_test.csv\", index_col=False)\n",
    "\n",
    "twitter_sex_df = pd.concat([twitter_sex_train_df,twitter_sex_test_df])\n",
    "twitter_sex_df = twitter_sex_df.dropna()\n",
    "\n",
    "twitter_sex_hurtlex_no = return_hurtlex_in_dataset_unique(twitter_sex_df)\n",
    "twitter_sex_duplicated_hurtlex_no = return_duplicated_hurtlex_in_dataset(twitter_sex_df)\n",
    "twitter_sex_with_duplicated_hurtlex = return_dataset_duplicated_hurtlex_in_dataset(twitter_sex_df)\n",
    "twitter_sex_duplictates_Hurtlext_no = return_hurtlex_cat_in_duplicated_data(twitter_sex_with_duplicated_hurtlex)\n",
    "twitter_sex_with_hurtlex = return_dataset_with_hurtlex_unique(twitter_sex_df)\n",
    "twitter_sex_without_hurtlex = twitter_sex_df[ (~twitter_sex_df[\"Text_clean\"].isin(twitter_sex_with_duplicated_hurtlex.Text_clean.values)) &\n",
    "                                             (~twitter_sex_df[\"Text_clean\"].isin(twitter_sex_with_hurtlex.Text_clean.values))]"
   ]
  },
  {
   "cell_type": "code",
   "execution_count": 34,
   "metadata": {
    "colab": {
     "base_uri": "https://localhost:8080/"
    },
    "executionInfo": {
     "elapsed": 12,
     "status": "ok",
     "timestamp": 1648647726348,
     "user": {
      "displayName": "Fatma Elsafoury",
      "userId": "12155606853084180649"
     },
     "user_tz": -60
    },
    "id": "NWOkISLtXd7j",
    "outputId": "892e244b-76c1-4694-9885-a152273d14a6"
   },
   "outputs": [
    {
     "data": {
      "text/plain": [
       "1.0"
      ]
     },
     "execution_count": 34,
     "metadata": {},
     "output_type": "execute_result"
    }
   ],
   "source": [
    "np.sum(twitter_sex_hurtlex_no)+ np.sum(twitter_sex_duplicated_hurtlex_no)+len(twitter_sex_without_hurtlex)/len(twitter_sex_df)"
   ]
  },
  {
   "cell_type": "markdown",
   "metadata": {
    "id": "Spd2hCeBOCA4"
   },
   "source": [
    "# Twitter_racism"
   ]
  },
  {
   "cell_type": "code",
   "execution_count": 35,
   "metadata": {
    "colab": {
     "base_uri": "https://localhost:8080/"
    },
    "executionInfo": {
     "elapsed": 58573,
     "status": "ok",
     "timestamp": 1648647784914,
     "user": {
      "displayName": "Fatma Elsafoury",
      "userId": "12155606853084180649"
     },
     "user_tz": -60
    },
    "id": "rAmN48tUOErF",
    "outputId": "2b149e30-8a4d-489b-f544-c523da510f7b"
   },
   "outputs": [
    {
     "name": "stderr",
     "output_type": "stream",
     "text": [
      "/usr/local/lib/python3.7/dist-packages/ipykernel_launcher.py:4: UserWarning: This pattern has match groups. To actually get the groups, use str.extract.\n",
      "  after removing the cwd from sys.path.\n",
      "/usr/local/lib/python3.7/dist-packages/ipykernel_launcher.py:6: SettingWithCopyWarning: \n",
      "A value is trying to be set on a copy of a slice from a DataFrame.\n",
      "Try using .loc[row_indexer,col_indexer] = value instead\n",
      "\n",
      "See the caveats in the documentation: https://pandas.pydata.org/pandas-docs/stable/user_guide/indexing.html#returning-a-view-versus-a-copy\n",
      "  \n"
     ]
    }
   ],
   "source": [
    "twitter_rac_train_df = pd.read_csv(CB_data_folder+\"/Twitter_racism/Twitter_rac_data_train.csv\", index_col=False)\n",
    "twitter_rac_test_df = pd.read_csv(CB_data_folder+\"/Twitter_racism/Twitter_rac_data_test.csv\", index_col=False)\n",
    "\n",
    "twitter_rac_df = pd.concat([twitter_rac_train_df,twitter_rac_test_df])\n",
    "twitter_rac_df = twitter_rac_df.dropna()\n",
    "\n",
    "twitter_rac_hurtlex_no = return_hurtlex_in_dataset_unique(twitter_rac_df)\n",
    "twitter_rac_duplicated_hurtlex_no = return_duplicated_hurtlex_in_dataset(twitter_rac_df)\n",
    "twitter_rac_with_duplicated_hurtlex = return_dataset_duplicated_hurtlex_in_dataset(twitter_rac_df)\n",
    "twitter_rac_duplictates_Hurtlext_no = return_hurtlex_cat_in_duplicated_data(twitter_rac_with_duplicated_hurtlex)\n",
    "twitter_rac_with_hurtlex = return_dataset_with_hurtlex_unique(twitter_rac_df)\n",
    "twitter_rac_without_hurtlex = twitter_rac_df[(~twitter_rac_df[\"Text_clean\"].isin(twitter_rac_with_duplicated_hurtlex.Text_clean.values)) &\n",
    "                                             (~twitter_rac_df[\"Text_clean\"].isin(twitter_rac_with_hurtlex.Text_clean.values))]"
   ]
  },
  {
   "cell_type": "code",
   "execution_count": 36,
   "metadata": {
    "colab": {
     "base_uri": "https://localhost:8080/"
    },
    "executionInfo": {
     "elapsed": 4,
     "status": "ok",
     "timestamp": 1648647784914,
     "user": {
      "displayName": "Fatma Elsafoury",
      "userId": "12155606853084180649"
     },
     "user_tz": -60
    },
    "id": "1H78NAvXX5In",
    "outputId": "1f15016e-c427-400e-9573-5302d4153d97"
   },
   "outputs": [
    {
     "data": {
      "text/plain": [
       "1.0"
      ]
     },
     "execution_count": 36,
     "metadata": {},
     "output_type": "execute_result"
    }
   ],
   "source": [
    "np.sum(twitter_rac_hurtlex_no)+ np.sum(twitter_rac_duplicated_hurtlex_no)+len(twitter_rac_without_hurtlex)/len(twitter_rac_df)"
   ]
  },
  {
   "cell_type": "markdown",
   "metadata": {
    "id": "3o1uREoYOUi8"
   },
   "source": [
    "# jigsaw_tox"
   ]
  },
  {
   "cell_type": "code",
   "execution_count": null,
   "metadata": {
    "colab": {
     "background_save": true,
     "base_uri": "https://localhost:8080/"
    },
    "id": "c_qK4TyUPVGr"
   },
   "outputs": [
    {
     "name": "stderr",
     "output_type": "stream",
     "text": [
      "/usr/local/lib/python3.7/dist-packages/ipykernel_launcher.py:4: UserWarning: This pattern has match groups. To actually get the groups, use str.extract.\n",
      "  after removing the cwd from sys.path.\n",
      "/usr/local/lib/python3.7/dist-packages/ipykernel_launcher.py:6: SettingWithCopyWarning: \n",
      "A value is trying to be set on a copy of a slice from a DataFrame.\n",
      "Try using .loc[row_indexer,col_indexer] = value instead\n",
      "\n",
      "See the caveats in the documentation: https://pandas.pydata.org/pandas-docs/stable/user_guide/indexing.html#returning-a-view-versus-a-copy\n",
      "  \n"
     ]
    }
   ],
   "source": [
    "jig_tox_train_df = pd.read_csv(CB_data_folder+\"/Jigsaw_tox/jigsaw_data_sample_100k_train.csv\", index_col=False)\n",
    "jig_tox_test_df = pd.read_csv(CB_data_folder+\"/Jigsaw_tox/jigsaw_data_sample_100k_test.csv\", index_col=False)\n",
    "\n",
    "jig_tox_df = pd.concat([jig_tox_train_df,jig_tox_test_df])\n",
    "jig_tox_df = jig_tox_df.dropna()\n",
    "\n",
    "jig_tox_df = jig_tox_df.rename(columns={\"toxic\":\"oh_label\"})\n",
    "\n",
    "jig_tox_hurtlex_no = return_hurtlex_in_dataset_unique(jig_tox_df)\n",
    "jig_tox_duplicated_hurtlex_no = return_duplicated_hurtlex_in_dataset(jig_tox_df)\n",
    "jig_tox_with_duplicated_hurtlex = return_dataset_duplicated_hurtlex_in_dataset(jig_tox_df)\n",
    "jig_tox_duplictates_Hurtlext_no = return_hurtlex_cat_in_duplicated_data(jig_tox_with_duplicated_hurtlex)\n",
    "jig_tox_with_hurtlex = return_dataset_with_hurtlex_unique(jig_tox_df)\n"
   ]
  },
  {
   "cell_type": "code",
   "execution_count": null,
   "metadata": {
    "colab": {
     "background_save": true
    },
    "id": "l_rHl9YUyiFf"
   },
   "outputs": [],
   "source": [
    "jig_tox_without_hurtlex = jig_tox_df[ (~jig_tox_df[\"Text_clean\"].isin(jig_tox_with_duplicated_hurtlex.Text_clean.values)) &\n",
    "                                     (~jig_tox_df[\"Text_clean\"].isin(jig_tox_with_hurtlex.Text_clean.values))]"
   ]
  },
  {
   "cell_type": "code",
   "execution_count": null,
   "metadata": {
    "colab": {
     "background_save": true
    },
    "id": "p4cbUMCrYVYz"
   },
   "outputs": [
    {
     "data": {
      "text/plain": [
       "1.0"
      ]
     },
     "execution_count": null,
     "metadata": {},
     "output_type": "execute_result"
    }
   ],
   "source": [
    "np.sum(jig_tox_hurtlex_no)+np.sum(jig_tox_duplicated_hurtlex_no)+len(jig_tox_without_hurtlex)/len(jig_tox_df)"
   ]
  },
  {
   "cell_type": "markdown",
   "metadata": {
    "id": "SYlqljmLG5Em"
   },
   "source": [
    "# plotting the dataset"
   ]
  },
  {
   "cell_type": "code",
   "execution_count": null,
   "metadata": {
    "id": "M07xwxgVabIf"
   },
   "outputs": [],
   "source": [
    "dic = {\"Dataset\":[\"hateEval\",\"Kaggle\", \"twitter-sex\",\"twitter-rac\",\"jigsaw\"],\n",
    "       \"PS\":[hateEval_hurtlex_no[0]*100,kaggle_hurtlex_no[0]*100,twitter_sex_hurtlex_no[0]*100,twitter_rac_hurtlex_no[0]*100,jig_tox_hurtlex_no[0]*100],\n",
    "       \"OM\":[hateEval_hurtlex_no[1]*100,kaggle_hurtlex_no[1]*100,twitter_sex_hurtlex_no[1]*100,twitter_rac_hurtlex_no[1]*100,jig_tox_hurtlex_no[1]*100],\n",
    "       \"QAS\":[hateEval_hurtlex_no[2]*100,kaggle_hurtlex_no[2]*100,twitter_sex_hurtlex_no[2]*100,twitter_rac_hurtlex_no[2]*100,jig_tox_hurtlex_no[2]*100],\n",
    "       \"CDS\":[hateEval_hurtlex_no[3]*100,kaggle_hurtlex_no[3]*100,twitter_sex_hurtlex_no[3]*100,twitter_rac_hurtlex_no[3]*100,jig_tox_hurtlex_no[3]*100],\n",
    "       \"IS\":[hateEval_hurtlex_no[4]*100,kaggle_hurtlex_no[4]*100,twitter_sex_hurtlex_no[4]*100,twitter_rac_hurtlex_no[4]*100,jig_tox_hurtlex_no[4]*100],\n",
    "       \"RE\":[hateEval_hurtlex_no[5]*100,kaggle_hurtlex_no[5]*100,twitter_sex_hurtlex_no[5]*100,twitter_rac_hurtlex_no[5]*100,jig_tox_hurtlex_no[5]*100],\n",
    "       \"PR\":[hateEval_hurtlex_no[6]*100,kaggle_hurtlex_no[6]*100,twitter_sex_hurtlex_no[6]*100,twitter_rac_hurtlex_no[6]*100,jig_tox_hurtlex_no[6]*100],\n",
    "       \"ASF\":[hateEval_hurtlex_no[7]*100,kaggle_hurtlex_no[7]*100,twitter_sex_hurtlex_no[7]*100,twitter_rac_hurtlex_no[7]*100,jig_tox_hurtlex_no[7]*100],\n",
    "       \"ASM\":[hateEval_hurtlex_no[8]*100,kaggle_hurtlex_no[8]*100,twitter_sex_hurtlex_no[8]*100,twitter_rac_hurtlex_no[8]*100,jig_tox_hurtlex_no[8]*100],\n",
    "       \"DDP\":[hateEval_hurtlex_no[9]*100,kaggle_hurtlex_no[9]*100,twitter_sex_hurtlex_no[9]*100,twitter_rac_hurtlex_no[9]*100,jig_tox_hurtlex_no[0]*100],\n",
    "       \"DDF\":[hateEval_hurtlex_no[10]*100,kaggle_hurtlex_no[10]*100,twitter_sex_hurtlex_no[10]*100,twitter_rac_hurtlex_no[10]*100,jig_tox_hurtlex_no[10]*100],\n",
    "       \"Mixed\":[hateEval_duplicated_hurtlex_no *100, kaggle_duplicated_hurtlex_no*100, twitter_sex_duplicated_hurtlex_no*100,twitter_rac_duplicated_hurtlex_no*100, jig_tox_duplicated_hurtlex_no*100],\n",
    "       \"No_hurtlex\":[len(hateEval_without_hurtlex)/len(hateEval_df)*100, len(kaggle_without_hurtlex)/len(kaggle_df)*100, len(twitter_sex_without_hurtlex)/len(twitter_sex_df)*100,\n",
    "               len(twitter_rac_without_hurtlex)/len(twitter_rac_df)*100, len(jig_tox_without_hurtlex)/len(jig_tox_df)*100]}"
   ]
  },
  {
   "cell_type": "code",
   "execution_count": null,
   "metadata": {
    "id": "uQMHda9yYwbu"
   },
   "outputs": [],
   "source": [
    "df = pd.DataFrame.from_dict(dic)"
   ]
  },
  {
   "cell_type": "code",
   "execution_count": null,
   "metadata": {
    "colab": {
     "base_uri": "https://localhost:8080/"
    },
    "executionInfo": {
     "elapsed": 3586489,
     "status": "ok",
     "timestamp": 1619618616147,
     "user": {
      "displayName": "Fatma Elsafoury",
      "photoUrl": "https://lh3.googleusercontent.com/a-/AOh14GiBOqs1m0p9NKAVLeYOvj2cfPepoOadDs_nVw4YEQ=s64",
      "userId": "12155606853084180649"
     },
     "user_tz": -60
    },
    "id": "Yy7fS2eqhkUI",
    "outputId": "d63cca18-26eb-429d-c968-df096e75f2db"
   },
   "outputs": [
    {
     "data": {
      "text/plain": [
       "0    100.000000\n",
       "1    100.000000\n",
       "2    100.000000\n",
       "3    100.000000\n",
       "4     99.483647\n",
       "dtype: float64"
      ]
     },
     "execution_count": 43,
     "metadata": {
      "tags": []
     },
     "output_type": "execute_result"
    }
   ],
   "source": [
    "df.sum(axis=1)"
   ]
  },
  {
   "cell_type": "code",
   "execution_count": null,
   "metadata": {
    "id": "28ZjedBbhRlg"
   },
   "outputs": [],
   "source": [
    "def get_cmap(n, name='hsv'):\n",
    "    '''Returns a function that maps each index in 0, 1, ..., n-1 to a distinct \n",
    "    RGB color; the keyword argument name must be a standard mpl colormap name.'''\n",
    "    return plt.cm.get_cmap(name, n)"
   ]
  },
  {
   "cell_type": "code",
   "execution_count": null,
   "metadata": {
    "id": "HN9rau7Nhe83"
   },
   "outputs": [],
   "source": [
    "color=['#808080', '#000000', '#FF0000', '#800000',\n",
    "            '#808000', '#00FFFF', '#0000FF', '#FF00FF', '#008000',\n",
    "            '#FFFF00', '#000080', \"#9370DB\", '#FF7F50']"
   ]
  },
  {
   "cell_type": "code",
   "execution_count": null,
   "metadata": {
    "colab": {
     "base_uri": "https://localhost:8080/",
     "height": 197
    },
    "executionInfo": {
     "elapsed": 968,
     "status": "ok",
     "timestamp": 1619619598165,
     "user": {
      "displayName": "Fatma Elsafoury",
      "photoUrl": "https://lh3.googleusercontent.com/a-/AOh14GiBOqs1m0p9NKAVLeYOvj2cfPepoOadDs_nVw4YEQ=s64",
      "userId": "12155606853084180649"
     },
     "user_tz": -60
    },
    "id": "wJ2O3DgNcJ7z",
    "outputId": "980d32e9-f715-45b7-91e9-aaf6cb98c4c7"
   },
   "outputs": [
    {
     "data": {
      "text/html": [
       "<div>\n",
       "<style scoped>\n",
       "    .dataframe tbody tr th:only-of-type {\n",
       "        vertical-align: middle;\n",
       "    }\n",
       "\n",
       "    .dataframe tbody tr th {\n",
       "        vertical-align: top;\n",
       "    }\n",
       "\n",
       "    .dataframe thead th {\n",
       "        text-align: right;\n",
       "    }\n",
       "</style>\n",
       "<table border=\"1\" class=\"dataframe\">\n",
       "  <thead>\n",
       "    <tr style=\"text-align: right;\">\n",
       "      <th></th>\n",
       "      <th>No_hurtlex</th>\n",
       "    </tr>\n",
       "  </thead>\n",
       "  <tbody>\n",
       "    <tr>\n",
       "      <th>0</th>\n",
       "      <td>38.626002</td>\n",
       "    </tr>\n",
       "    <tr>\n",
       "      <th>1</th>\n",
       "      <td>44.923630</td>\n",
       "    </tr>\n",
       "    <tr>\n",
       "      <th>2</th>\n",
       "      <td>65.988241</td>\n",
       "    </tr>\n",
       "    <tr>\n",
       "      <th>3</th>\n",
       "      <td>63.620474</td>\n",
       "    </tr>\n",
       "    <tr>\n",
       "      <th>4</th>\n",
       "      <td>41.480679</td>\n",
       "    </tr>\n",
       "  </tbody>\n",
       "</table>\n",
       "</div>"
      ],
      "text/plain": [
       "   No_hurtlex\n",
       "0   38.626002\n",
       "1   44.923630\n",
       "2   65.988241\n",
       "3   63.620474\n",
       "4   41.480679"
      ]
     },
     "execution_count": 56,
     "metadata": {
      "tags": []
     },
     "output_type": "execute_result"
    }
   ],
   "source": [
    "df[[\"No_hurtlex\"]]"
   ]
  },
  {
   "cell_type": "code",
   "execution_count": null,
   "metadata": {
    "colab": {
     "base_uri": "https://localhost:8080/",
     "height": 374
    },
    "executionInfo": {
     "elapsed": 1337,
     "status": "ok",
     "timestamp": 1619619768069,
     "user": {
      "displayName": "Fatma Elsafoury",
      "photoUrl": "https://lh3.googleusercontent.com/a-/AOh14GiBOqs1m0p9NKAVLeYOvj2cfPepoOadDs_nVw4YEQ=s64",
      "userId": "12155606853084180649"
     },
     "user_tz": -60
    },
    "id": "WJrou8SLcEWX",
    "outputId": "0acbcd81-ee68-45ff-b809-965bebad76f8"
   },
   "outputs": [
    {
     "data": {
      "text/plain": [
       "<matplotlib.legend.Legend at 0x7f8905c71cd0>"
      ]
     },
     "execution_count": 61,
     "metadata": {
      "tags": []
     },
     "output_type": "execute_result"
    },
    {
     "data": {
      "image/png": "[encoded data removed]",
      "text/plain": [
       "<Figure size 720x216 with 1 Axes>"
      ]
     },
     "metadata": {
      "tags": []
     },
     "output_type": "display_data"
    }
   ],
   "source": [
    "ax = df.plot(kind=\"bar\",figsize = (10, 3),color=color)\n",
    "plt.ylim(0,50)\n",
    "ax.annotate('40%', xy=(0.25, 35), xytext=(0.25, 35), fontsize=12)\n",
    "ax.annotate('45%', xy=(1.25, 35), xytext=(1.25, 35), fontsize=12)\n",
    "ax.annotate('66%', xy=(2.25, 35), xytext=(2.25, 35), fontsize=12)\n",
    "ax.annotate('64%', xy=(3.25, 35), xytext=(3.25, 35), fontsize=12)\n",
    "ax.annotate('41%', xy=(4.25, 35), xytext=(4.25, 35), fontsize=12)\n",
    "plt.xticks(np.arange(0,5,1), labels=df.Dataset.unique(), fontsize=12, fontweight=\"bold\")\n",
    "plt.yticks(np.arange(0,50,10),fontsize=12, fontweight=\"bold\")\n",
    "plt.legend(bbox_to_anchor=(1.12, 1))\n",
    "plt.ylabel(\"% of the dataset\", fontsize=12, fontweight=\"bold\")\n",
    "#plt.xlabel(\"datasets\", fontsize=25)\n",
    "plt.legend(bbox_to_anchor=(1, 1.05), fontsize=12, ncol=11)"
   ]
  },
  {
   "cell_type": "code",
   "execution_count": null,
   "metadata": {
    "id": "Ci5MIry7GSHd"
   },
   "outputs": [],
   "source": [
    " images_folder = \"/content/drive/My Drive/Colab Notebooks/Cyberbullying_WE_intrinsic_analysis/images\""
   ]
  },
  {
   "cell_type": "code",
   "execution_count": null,
   "metadata": {
    "colab": {
     "base_uri": "https://localhost:8080/"
    },
    "executionInfo": {
     "elapsed": 890,
     "status": "ok",
     "timestamp": 1619619786026,
     "user": {
      "displayName": "Fatma Elsafoury",
      "photoUrl": "https://lh3.googleusercontent.com/a-/AOh14GiBOqs1m0p9NKAVLeYOvj2cfPepoOadDs_nVw4YEQ=s64",
      "userId": "12155606853084180649"
     },
     "user_tz": -60
    },
    "id": "qoNwmgzEXkpQ",
    "outputId": "b22f3369-173e-45e4-e85e-eb87b3823971"
   },
   "outputs": [
    {
     "name": "stderr",
     "output_type": "stream",
     "text": [
      "The PostScript backend does not support transparency; partially transparent artists will be rendered opaque.\n",
      "The PostScript backend does not support transparency; partially transparent artists will be rendered opaque.\n"
     ]
    }
   ],
   "source": [
    "fig = ax.get_figure()\n",
    "fig.savefig(images_folder+\"/prcntg_of_all_lexicon_for_each_ds_zoom.eps\", format='eps',bbox_inches='tight') "
   ]
  },
  {
   "cell_type": "code",
   "execution_count": null,
   "metadata": {
    "id": "T1TiqkZZHv2J"
   },
   "outputs": [],
   "source": []
  }
 ],
 "metadata": {
  "colab": {
   "authorship_tag": "ABX9TyMH7NQYgDeaTiwPLDJSeGqB",
   "collapsed_sections": [],
   "name": "Hurtlex_in_all_datasets.ipynb",
   "version": ""
  },
  "kernelspec": {
   "display_name": "Python 3",
   "language": "python",
   "name": "python3"
  },
  "language_info": {
   "codemirror_mode": {
    "name": "ipython",
    "version": 3
   },
   "file_extension": ".py",
   "mimetype": "text/x-python",
   "name": "python",
   "nbconvert_exporter": "python",
   "pygments_lexer": "ipython3",
   "version": "3.8.10"
  }
 },
 "nbformat": 4,
 "nbformat_minor": 1
}
